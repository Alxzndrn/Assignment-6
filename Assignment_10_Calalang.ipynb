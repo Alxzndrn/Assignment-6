{
  "nbformat": 4,
  "nbformat_minor": 0,
  "metadata": {
    "colab": {
      "name": "Assignment 10 Calalang.ipynb",
      "provenance": [],
      "collapsed_sections": [],
      "include_colab_link": true
    },
    "kernelspec": {
      "name": "python3",
      "display_name": "Python 3"
    },
    "language_info": {
      "name": "python"
    }
  },
  "cells": [
    {
      "cell_type": "markdown",
      "metadata": {
        "id": "view-in-github",
        "colab_type": "text"
      },
      "source": [
        "<a href=\"https://colab.research.google.com/github/Alxzndrn/Assignment-6/blob/main/Assignment_10_Calalang.ipynb\" target=\"_parent\"><img src=\"https://colab.research.google.com/assets/colab-badge.svg\" alt=\"Open In Colab\"/></a>"
      ]
    },
    {
      "cell_type": "markdown",
      "metadata": {
        "id": "qQJmPRI1765I"
      },
      "source": [
        "Now that you have a fundamental knowledge about linear combination, we'll try to visualize it using scientific programming."
      ]
    },
    {
      "cell_type": "markdown",
      "metadata": {
        "id": "aVTciRrQ78E3"
      },
      "source": [
        "## I. Objectives\n",
        "At the end of this activity you will be able to:\n",
        "1. Be familiar with representing linear combinations in the 2-dimensional plane.\n",
        "2. Visualize spans using vector fields in Python.\n",
        "3. Perform vector fields operations using scientific programming."
      ]
    },
    {
      "cell_type": "markdown",
      "metadata": {
        "id": "0TbHw3JCmatQ"
      },
      "source": [
        "# II. Methodology\n"
      ]
    },
    {
      "cell_type": "markdown",
      "metadata": {
        "id": "R5hE56_t8Cu5"
      },
      "source": [
        "# Discussion"
      ]
    },
    {
      "cell_type": "code",
      "metadata": {
        "id": "0lAjkv1tRUXO"
      },
      "source": [
        "import numpy as np\n",
        "import matplotlib.pyplot as plt\n",
        "%matplotlib inline"
      ],
      "execution_count": null,
      "outputs": []
    },
    {
      "cell_type": "markdown",
      "metadata": {
        "id": "dbSdk4-UTf6k"
      },
      "source": [
        "#Linear Combination"
      ]
    },
    {
      "cell_type": "markdown",
      "metadata": {
        "id": "H-nWihSK8JS4"
      },
      "source": [
        "It is said that a linear combination is the combination of linear scaling and addition of a vector its bases/components"
      ]
    },
    {
      "cell_type": "markdown",
      "metadata": {
        "id": "0Cw1mWK28KPQ"
      },
      "source": [
        "We will try to visualize the vectors and their linear combinations by plotting a sample of real number values for the scalars for the vectors. Let's first try the vectors below:"
      ]
    },
    {
      "cell_type": "markdown",
      "metadata": {
        "id": "k-aRzlPiTios"
      },
      "source": [
        "$$X = \\begin{bmatrix} 2\\\\5 \\\\\\end{bmatrix} , Y = \\begin{bmatrix} 7\\\\9 \\\\\\end{bmatrix} $$"
      ]
    },
    {
      "cell_type": "code",
      "metadata": {
        "colab": {
          "base_uri": "https://localhost:8080/"
        },
        "id": "kj-lngN_Tu3E",
        "outputId": "8119611f-0e25-4c8f-8e80-fb96622e063f"
      },
      "source": [
        "vectX = np.array([2,5])\n",
        "vectY = np.array([7,9])\n",
        "vectY"
      ],
      "execution_count": null,
      "outputs": [
        {
          "output_type": "execute_result",
          "data": {
            "text/plain": [
              "array([7, 9])"
            ]
          },
          "metadata": {},
          "execution_count": 2
        }
      ]
    },
    {
      "cell_type": "markdown",
      "metadata": {
        "id": "g1sxCLBkUBJ0"
      },
      "source": [
        "# Span of single vectors"
      ]
    },
    {
      "cell_type": "markdown",
      "metadata": {
        "id": "HV1weV_9UFWL"
      },
      "source": [
        "As discussed in the lecture, the span of individual vectors can be represented by a line span. Let's take vector $X$ as an example."
      ]
    },
    {
      "cell_type": "markdown",
      "metadata": {
        "id": "eDcj5xQeUHFj"
      },
      "source": [
        "$$X = c\\cdot \\begin{bmatrix} 2\\\\5 \\\\\\end{bmatrix} $$"
      ]
    },
    {
      "cell_type": "code",
      "metadata": {
        "colab": {
          "base_uri": "https://localhost:8080/",
          "height": 269
        },
        "id": "ZmEH35-dUHny",
        "outputId": "034cb806-21ef-474d-ff5b-399e1a6528da"
      },
      "source": [
        "c = np.arange(-10,10,0.125)\n",
        "\n",
        "plt.scatter(c*vectX[0],c*vectX[1])\n",
        "\n",
        "plt.xlim(-10,10)\n",
        "plt.ylim(-10,10)\n",
        "plt.axhline(y=0, color='k')\n",
        "plt.axvline(x=0, color='k')\n",
        "plt.grid()\n",
        "plt.show()"
      ],
      "execution_count": null,
      "outputs": [
        {
          "output_type": "display_data",
          "data": {
            "image/png": "[encoded data removed]",
            "text/plain": [
              "<Figure size 432x288 with 1 Axes>"
            ]
          },
          "metadata": {
            "needs_background": "light"
          }
        }
      ]
    },
    {
      "cell_type": "markdown",
      "metadata": {
        "id": "E1TvtCCE8h3B"
      },
      "source": [
        "$$Y = c\\cdot \\begin{bmatrix} 7\\\\9 \\\\\\end{bmatrix} $$"
      ]
    },
    {
      "cell_type": "code",
      "metadata": {
        "colab": {
          "base_uri": "https://localhost:8080/",
          "height": 269
        },
        "id": "GE2rDFt08ptO",
        "outputId": "169ce39a-a421-4924-8b28-e6799e442836"
      },
      "source": [
        "c = np.arange(-15,15,0.5)\n",
        "\n",
        "plt.scatter(c*vectY[0],c*vectY[1])\n",
        "\n",
        "plt.xlim(-20,20)\n",
        "plt.ylim(-20,20)\n",
        "plt.axhline(y=0, color='k')\n",
        "plt.axvline(x=0, color='k')\n",
        "plt.grid()\n",
        "plt.show()"
      ],
      "execution_count": null,
      "outputs": [
        {
          "output_type": "display_data",
          "data": {
            "image/png": "[encoded data removed]",
            "text/plain": [
              "<Figure size 432x288 with 1 Axes>"
            ]
          },
          "metadata": {
            "needs_background": "light"
          }
        }
      ]
    },
    {
      "cell_type": "markdown",
      "metadata": {
        "id": "l3voRnY-8tyQ"
      },
      "source": [
        "### Span of a linear combination of vectors"
      ]
    },
    {
      "cell_type": "markdown",
      "metadata": {
        "id": "93Q8CoCl8uqL"
      },
      "source": [
        "So what if we are to plot the span of a linear combination of vectors? We can visualize as a plane on the 2-dimensional coordinate system. Let's take the span of the linear combination below:"
      ]
    },
    {
      "cell_type": "markdown",
      "metadata": {
        "id": "mABlawrb8x06"
      },
      "source": [
        "$$S = \\begin{Bmatrix} c_1 \\cdot\\begin{bmatrix} 1\\\\0 \\\\\\end{bmatrix}, \n",
        "c_2 \\cdot \\begin{bmatrix} 1\\\\-1 \\\\\\end{bmatrix}\\end{Bmatrix} $$"
      ]
    },
    {
      "cell_type": "code",
      "metadata": {
        "colab": {
          "base_uri": "https://localhost:8080/",
          "height": 265
        },
        "id": "euTi3Eol81cg",
        "outputId": "592f814e-36ba-40f9-bf48-21a2d1fac0d0"
      },
      "source": [
        "vectA = np.array([1,0])\n",
        "vectB = np.array([1,-1])\n",
        "\n",
        "R = np.arange(-10,10,1)\n",
        "\n",
        "c1, c2 = np.meshgrid(R,R)\n",
        "\n",
        "vectR = vectA + vectB\n",
        "spanRx = c1*vectA[0] + c2*vectB[0]\n",
        "spanRy = c1*vectA[1] + c2*vectB[1]\n",
        "##plt.scatter(R*vectA[0],R*vectA[1])\n",
        "##plt.scatter(R*vectB[0],R*vectB[1])\n",
        "plt.scatter(spanRx,spanRy, s=5, alpha=0.75)\n",
        "\n",
        "plt.axhline(y=0, color='k')\n",
        "plt.axvline(x=0, color='k')\n",
        "plt.grid()\n",
        "plt.show()"
      ],
      "execution_count": null,
      "outputs": [
        {
          "output_type": "display_data",
          "data": {
            "image/png": "[encoded data removed]",
            "text/plain": [
              "<Figure size 432x288 with 1 Axes>"
            ]
          },
          "metadata": {
            "needs_background": "light"
          }
        }
      ]
    },
    {
      "cell_type": "code",
      "metadata": {
        "colab": {
          "base_uri": "https://localhost:8080/",
          "height": 265
        },
        "id": "1L6rrYSM9LiR",
        "outputId": "89a7fe8b-bffe-4b47-8c24-ff5cb62e7948"
      },
      "source": [
        "vectP = np.array([2,1])\n",
        "vectQ = np.array([4,3])\n",
        "\n",
        "R = np.arange(-10,10,1)\n",
        "\n",
        "c1, c2 = np.meshgrid(R,R)\n",
        "\n",
        "vectR = vectP + vectQ\n",
        "spanRx = c1*vectP[0] + c2*vectQ[0]\n",
        "spanRy = c1*vectP[1] + c2*vectQ[1]\n",
        "##plt.scatter(R*vectA[0],R*vectA[1])\n",
        "##plt.scatter(R*vectB[0],R*vectB[1])\n",
        "plt.scatter(spanRx,spanRy, s=5, alpha=0.75)\n",
        "\n",
        "plt.axhline(y=0, color='k')\n",
        "plt.axvline(x=0, color='k')\n",
        "plt.grid()\n",
        "plt.show()"
      ],
      "execution_count": null,
      "outputs": [
        {
          "output_type": "display_data",
          "data": {
            "image/png": "[encoded data removed]",
            "text/plain": [
              "<Figure size 432x288 with 1 Axes>"
            ]
          },
          "metadata": {
            "needs_background": "light"
          }
        }
      ]
    },
    {
      "cell_type": "markdown",
      "metadata": {
        "id": "GOmCG4Oq88Ea"
      },
      "source": [
        "Take note that if vectors are seen to be as a 2-dimensional span we can say it has a Rank of 2 or $\\mathbb{R}^2$. But if the span of the linear combination of vectors are seen to be like a line, they are said to be <b> linearly dependent </b> and they have a rank of 1 or $\\mathbb{R}^1$."
      ]
    },
    {
      "cell_type": "markdown",
      "metadata": {
        "id": "tehEpugA9QXu"
      },
      "source": [
        "# Activity"
      ]
    },
    {
      "cell_type": "markdown",
      "metadata": {
        "id": "0wnEhTqmWinp"
      },
      "source": [
        "w = 0.3P + 0.3M + 0.4F\n",
        "\n",
        "P, M, F"
      ]
    },
    {
      "cell_type": "code",
      "metadata": {
        "colab": {
          "base_uri": "https://localhost:8080/"
        },
        "id": "DH0ba8AlWplx",
        "outputId": "50ed3897-4d7b-471a-df12-198a405b949a"
      },
      "source": [
        "w = np.array([0.3, 0.3, 0.4])\n",
        "grades = np.array([85, 90, 93])\n",
        "w @ grades"
      ],
      "execution_count": null,
      "outputs": [
        {
          "output_type": "execute_result",
          "data": {
            "text/plain": [
              "89.7"
            ]
          },
          "metadata": {},
          "execution_count": 7
        }
      ]
    },
    {
      "cell_type": "markdown",
      "metadata": {
        "id": "V3M05AxO9VLO"
      },
      "source": [
        "## Task"
      ]
    },
    {
      "cell_type": "markdown",
      "metadata": {
        "id": "bya2MrEQ9ZhF"
      },
      "source": [
        "Try different linear combinations using different scalar values. In your methodology discuss the different functions that you have used, the  linear equation and vector form of the linear combination, and the flowchart for declaring and displaying linear combinations. Please make sure that your flowchart has only few words and not putting the entire code as it is bad practice. In your results, display and discuss the linear combination visualization you made. You should use the cells below for displaying the equation markdows using LaTeX and your code."
      ]
    },
    {
      "cell_type": "markdown",
      "metadata": {
        "id": "BOn0GT7s9a3w"
      },
      "source": [
        "$$Mae = \\begin{Bmatrix} V_1 \\cdot\\begin{bmatrix} 7\\\\6 \\\\\\end{bmatrix}, \n",
        "V_2 \\cdot \\begin{bmatrix} 9\\\\-2 \\\\\\end{bmatrix}\\end{Bmatrix} $$"
      ]
    },
    {
      "cell_type": "markdown",
      "metadata": {
        "id": "zh3nVCEg9eOA"
      },
      "source": [
        "$$x-2y =5$$"
      ]
    },
    {
      "cell_type": "code",
      "metadata": {
        "colab": {
          "base_uri": "https://localhost:8080/",
          "height": 265
        },
        "id": "DEXdHNgg9jEW",
        "outputId": "4eaefea1-51c0-4dee-ca4e-6db7f9da43db"
      },
      "source": [
        "vectA = np.array([7, 9])\n",
        "vectB = np.array([6,-2])\n",
        "\n",
        "R = np.arange(-10,10,1)\n",
        "\n",
        "V1, V2 = np.meshgrid(R,R)\n",
        "\n",
        "vectR = vectA + vectB\n",
        "spanRx = V1*vectA[0] + V2*vectB[0]\n",
        "spanRy = V1*vectA[1] + V2*vectB[1]\n",
        "\n",
        "plt.scatter(spanRx,spanRy, s=5, alpha=0.75)\n",
        "\n",
        "plt.axhline(y=0, color='g')\n",
        "plt.axvline(x=0, color='m')\n",
        "plt.grid()\n",
        "plt.show()"
      ],
      "execution_count": null,
      "outputs": [
        {
          "output_type": "display_data",
          "data": {
            "image/png": "[encoded data removed]",
            "text/plain": [
              "<Figure size 432x288 with 1 Axes>"
            ]
          },
          "metadata": {
            "needs_background": "light"
          }
        }
      ]
    },
    {
      "cell_type": "markdown",
      "metadata": {
        "id": "VPNxosNrgjtW"
      },
      "source": [
        " ![Flowchart-Lab9-Salvacion.png](data:image/png;base64,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)"
      ]
    },
    {
      "cell_type": "markdown",
      "metadata": {
        "id": "s_bfn6yVraLu"
      },
      "source": [
        ""
      ]
    },
    {
      "cell_type": "markdown",
      "metadata": {
        "id": "0PNuOHz8rZlm"
      },
      "source": [
        ""
      ]
    },
    {
      "cell_type": "markdown",
      "metadata": {
        "id": "9oik6Lgh9g_Y"
      },
      "source": [
        "## Conclusion guide"
      ]
    },
    {
      "cell_type": "markdown",
      "metadata": {
        "id": "LeB0AKEG9q94"
      },
      "source": [
        "We were able to turn matrices into linear equations and apply them to graphs in this laboratory session. This allows us to offer a clear visual representation of the values assigned to them and how they affect the various positions. It was also learned how to encode the spans of single and combination vectors. This demonstrates how the linear combination can be useful in the field of engineering, as it not only makes problem solving easier, but it also works with vectors, as the linear combination yields the span of the vectors. When riding a boat, for example, vectors assist us in evaluating the forces acting on the boat, which keeps us safe. When riding a boat, for example, vectors assist us in evaluating the forces acting on the boat, which prevents us from having a safe ride."
      ]
    }
  ]
}