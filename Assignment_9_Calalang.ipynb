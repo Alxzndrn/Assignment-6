{
  "nbformat": 4,
  "nbformat_minor": 0,
  "metadata": {
    "colab": {
      "name": "Assignment 9 Calalang.ipynb",
      "provenance": [],
      "collapsed_sections": [],
      "include_colab_link": true
    },
    "kernelspec": {
      "name": "python3",
      "display_name": "Python 3"
    },
    "language_info": {
      "name": "python"
    }
  },
  "cells": [
    {
      "cell_type": "markdown",
      "metadata": {
        "id": "view-in-github",
        "colab_type": "text"
      },
      "source": [
        "<a href=\"https://colab.research.google.com/github/Alxzndrn/Assignment-6/blob/main/Assignment_9_Calalang.ipynb\" target=\"_parent\"><img src=\"https://colab.research.google.com/assets/colab-badge.svg\" alt=\"Open In Colab\"/></a>"
      ]
    },
    {
      "cell_type": "markdown",
      "metadata": {
        "id": "Qryp7-HsOlv1"
      },
      "source": [
        "In this laboratory we will be discussing the basics of numerical and scientific programming by working with Vectors using NumPy and MatPotLib. "
      ]
    },
    {
      "cell_type": "markdown",
      "metadata": {
        "id": "LVW4YPl1OxDz"
      },
      "source": [
        "# Objectives\n",
        "At the end of this activity you will be able to:\n",
        "1. Be familiar with the libraries in Python for numerical and scientific programming.\n",
        "2. Visualize vectors through Python programming.\n",
        "3. Perform simple vector operations through code."
      ]
    },
    {
      "cell_type": "markdown",
      "metadata": {
        "id": "snX9j_pQO53r"
      },
      "source": [
        "# NumPy"
      ]
    },
    {
      "cell_type": "markdown",
      "metadata": {
        "id": "RMub7O8ZO714"
      },
      "source": [
        "NumPy or Numerical Python, is mainly used for matrix and vector operations. It is capable of declaring computing and representing matrices. Most Pythons"
      ]
    },
    {
      "cell_type": "markdown",
      "metadata": {
        "id": "KOBKLa2MPFSh"
      },
      "source": [
        "Scalars \\\\\n",
        "Represents magnitude or a single value\n",
        "\n",
        "Vectors \\\\\n",
        "Represents magnitude with directions"
      ]
    },
    {
      "cell_type": "markdown",
      "metadata": {
        "id": "4G5nSeb1PZqR"
      },
      "source": [
        "# Representing Vectors"
      ]
    },
    {
      "cell_type": "markdown",
      "metadata": {
        "id": "1JTFRjfJPbyM"
      },
      "source": [
        "Now that you know how to represent vectors using their component and matrix form we can now hard-code them in Python. Le's say that you have the vectors."
      ]
    },
    {
      "cell_type": "markdown",
      "metadata": {
        "id": "c4e3WRTJPmNW"
      },
      "source": [
        "$$ A = 4\\hat{x} + 3\\hat{y} \\\\\n",
        "B = 2\\hat{x} - 5\\hat{y} \\\\\n",
        "C = 4ax + 3ay - 2az \\\\\n",
        "D = 2\\hat{i} - 2\\hat{i} + 3\\hat{i} $$"
      ]
    },
    {
      "cell_type": "markdown",
      "metadata": {
        "id": "3xh0DIK-PrGS"
      },
      "source": [
        "In which it's matrix equivalent is: "
      ]
    },
    {
      "cell_type": "markdown",
      "metadata": {
        "id": "dbaxgV5LPvGf"
      },
      "source": [
        "$$ A = \\begin{bmatrix} 4 \\\\ 3\\end{bmatrix} , B = \\begin{bmatrix} 2 \\\\ -5\\end{bmatrix} , C = \\begin{bmatrix} 4 \\\\ 3 \\\\ -2\\end{bmatrix} , D = \\begin{bmatrix} -2 \\\\ -2 \\\\ 3\\end{bmatrix} \n",
        "$$\n",
        "$$ A = \\begin{bmatrix} 4 & 3\\end{bmatrix} , B = \\begin{bmatrix} 2 & -5\\end{bmatrix},  C = \\begin{bmatrix} 4 & 3 & -2\\end{bmatrix}, D = \\begin{bmatrix} -2 & -2 & 3\\end{bmatrix} \n",
        "$$"
      ]
    },
    {
      "cell_type": "markdown",
      "metadata": {
        "id": "3qI0hIiIQTl6"
      },
      "source": [
        "We can start doing numpy code with this by:"
      ]
    },
    {
      "cell_type": "code",
      "metadata": {
        "id": "kgvntNeqMfCd"
      },
      "source": [
        "## Importing necessary libraries \n",
        "import numpy as np ## 'np' here is short hand name of the library (numpy) or a nickname."
      ],
      "execution_count": null,
      "outputs": []
    },
    {
      "cell_type": "code",
      "metadata": {
        "colab": {
          "base_uri": "https://localhost:8080/"
        },
        "id": "vLTbgxSsR5rM",
        "outputId": "9da7d0a0-2afb-4f2a-9a9d-1f79123380fa"
      },
      "source": [
        "A = np.array ([4,3])\n",
        "B = np. array ([2,-5])\n",
        "C = np.array([\n",
        "              [4],\n",
        "              [3],\n",
        "              [-2]\n",
        "])\n",
        "D = np. array ([\n",
        "                [-2],\n",
        "                [-2],\n",
        "                [3]\n",
        "])\n",
        "print('Vector A is ', A)\n",
        "print('Vector B is ', B)\n",
        "print('Vector C is ', C)\n",
        "print('Vector D is ', D)"
      ],
      "execution_count": null,
      "outputs": [
        {
          "output_type": "stream",
          "name": "stdout",
          "text": [
            "Vector A is  [4 3]\n",
            "Vector B is  [ 2 -5]\n",
            "Vector C is  [[ 4]\n",
            " [ 3]\n",
            " [-2]]\n",
            "Vector D is  [[-2]\n",
            " [-2]\n",
            " [ 3]]\n"
          ]
        }
      ]
    },
    {
      "cell_type": "markdown",
      "metadata": {
        "id": "hEtFxnvETYPH"
      },
      "source": [
        "# Describing vectors in NumPy"
      ]
    },
    {
      "cell_type": "markdown",
      "metadata": {
        "id": "oS1EvudsTb6Y"
      },
      "source": [
        "Describing vectors is very important if we want to perform basic to advanced operations with them. The fundamental ways in describing vectors are knowing their shape, size and dimensions."
      ]
    },
    {
      "cell_type": "code",
      "metadata": {
        "colab": {
          "base_uri": "https://localhost:8080/"
        },
        "id": "-4Bp0_etTcgR",
        "outputId": "fd98a803-e982-4cd7-fb50-ec54f55a41f4"
      },
      "source": [
        "### Checking shapes\n",
        "### Shapes tells us how many elements are there on each row and column\n",
        "\n",
        "A.shape\n",
        "H = np.array([1,0,2,5,-0.2,0])\n",
        "H.shape\n",
        "C.shape"
      ],
      "execution_count": null,
      "outputs": [
        {
          "output_type": "execute_result",
          "data": {
            "text/plain": [
              "(3, 1)"
            ]
          },
          "metadata": {},
          "execution_count": 5
        }
      ]
    },
    {
      "cell_type": "code",
      "metadata": {
        "colab": {
          "base_uri": "https://localhost:8080/"
        },
        "id": "kNIURcHjTzuU",
        "outputId": "e87ddd53-e9ed-402d-bb2f-aa3b07098555"
      },
      "source": [
        "### Checking size\n",
        "### Array/Vector sizes tells us many total number of elements are there in the vector\n",
        "\n",
        "C.size"
      ],
      "execution_count": null,
      "outputs": [
        {
          "output_type": "execute_result",
          "data": {
            "text/plain": [
              "3"
            ]
          },
          "metadata": {},
          "execution_count": 7
        }
      ]
    },
    {
      "cell_type": "code",
      "metadata": {
        "colab": {
          "base_uri": "https://localhost:8080/"
        },
        "id": "3EEJgslXT817",
        "outputId": "1fe5458a-c13f-4602-9394-2cb18883567e"
      },
      "source": [
        "### Checking dimensions\n",
        "### The dimensions or rank of a vector tells us how many dimensions are there for the vector.\n",
        "\n",
        "C.ndim"
      ],
      "execution_count": null,
      "outputs": [
        {
          "output_type": "execute_result",
          "data": {
            "text/plain": [
              "2"
            ]
          },
          "metadata": {},
          "execution_count": 6
        }
      ]
    },
    {
      "cell_type": "markdown",
      "metadata": {
        "id": "ei4DUtmeUOCT"
      },
      "source": [
        "Great! Now let's try to explore in performing operations with these vectors."
      ]
    },
    {
      "cell_type": "markdown",
      "metadata": {
        "id": "vmMXYSNgUmvu"
      },
      "source": [
        "# Addition"
      ]
    },
    {
      "cell_type": "markdown",
      "metadata": {
        "id": "TWKLzKofUoPB"
      },
      "source": [
        "The addition rule is simple, the we just need to add the elements. The **addition** rule is simple, the we just need to add the elements of the matrices according to their index. So in this case if we add vector $A$ and vector $B$ we will have a resulting vector:\n",
        "\n",
        "$$R = 6\\hat{x}-2\\hat{y} \\\\ \\\\or \\\\ \\\\ R = \\begin{bmatrix} 6 \\\\ -2\\end{bmatrix} $$\n",
        "So let's try to do that in NumPy in several number of ways:"
      ]
    },
    {
      "cell_type": "code",
      "metadata": {
        "id": "fQD2eJtkUvrg"
      },
      "source": [
        "R = np.add(A,B) ## this is the functional method using the numpy library\n",
        "P = np.add(C,D)\n"
      ],
      "execution_count": null,
      "outputs": []
    },
    {
      "cell_type": "code",
      "metadata": {
        "colab": {
          "base_uri": "https://localhost:8080/"
        },
        "id": "OOp8jPSiU4LQ",
        "outputId": "cab347ec-6019-4759-c3fa-c71cd60804c0"
      },
      "source": [
        "R = A + B ## this is the explicit method, since Python does a value-reference so it can\n",
        "          ## know that these variables would need to do array operations.\n",
        "R"
      ],
      "execution_count": null,
      "outputs": [
        {
          "output_type": "execute_result",
          "data": {
            "text/plain": [
              "array([ 6, -2])"
            ]
          },
          "metadata": {},
          "execution_count": 9
        }
      ]
    },
    {
      "cell_type": "code",
      "metadata": {
        "colab": {
          "base_uri": "https://localhost:8080/"
        },
        "id": "VDwzcK6fV6x0",
        "outputId": "32c493b2-01fc-4385-aab8-995c44cfc5c3"
      },
      "source": [
        "pos1 = np.array([0,0,0])\n",
        "pos2 = np.array([0,1,3])\n",
        "pos3 = np.array([1,5,-2])\n",
        "pos4 = np.array([5,-3,3])\n",
        "#R = pos1 + pos2 +pos3 + pos4\n",
        "#R = pos1 - pos2\n",
        "#R = np.multiply(pos3, pos4)\n",
        "R = pos3 / pos4\n",
        "R"
      ],
      "execution_count": null,
      "outputs": [
        {
          "output_type": "execute_result",
          "data": {
            "text/plain": [
              "array([ 0.2       , -1.66666667, -0.66666667])"
            ]
          },
          "metadata": {},
          "execution_count": 10
        }
      ]
    },
    {
      "cell_type": "markdown",
      "metadata": {
        "id": "GcH6ePQgVd2T"
      },
      "source": [
        "# Try for yourself!"
      ]
    },
    {
      "cell_type": "markdown",
      "metadata": {
        "id": "vBoAnL1Rd6Wx"
      },
      "source": [
        "Try to implement subtraction, multiplication, and division with vectors $A$ and $B$!\n",
        "$$ A = \\begin{bmatrix} 1 \\\\ 6\\end{bmatrix} , B = \\begin{bmatrix} 1 \\\\ -2\\end{bmatrix}\n",
        "$$"
      ]
    },
    {
      "cell_type": "code",
      "metadata": {
        "id": "6AUdv5x4WSpg"
      },
      "source": [
        "A1 = np.array([\n",
        "              [1],\n",
        "              [6]\n",
        "])\n",
        "B2 = np.array ([\n",
        "              [1],\n",
        "              [-2]\n",
        "])\n"
      ],
      "execution_count": null,
      "outputs": []
    },
    {
      "cell_type": "code",
      "metadata": {
        "colab": {
          "base_uri": "https://localhost:8080/"
        },
        "id": "YvNVhLfeeM_B",
        "outputId": "d39f71f0-666e-4b3c-a689-1d81d8fdaa16"
      },
      "source": [
        "M1 = np.add(A1, B2)\n",
        "M1"
      ],
      "execution_count": null,
      "outputs": [
        {
          "output_type": "execute_result",
          "data": {
            "text/plain": [
              "array([[2],\n",
              "       [4]])"
            ]
          },
          "metadata": {},
          "execution_count": 26
        }
      ]
    },
    {
      "cell_type": "code",
      "metadata": {
        "colab": {
          "base_uri": "https://localhost:8080/"
        },
        "id": "c-RMOzrKeVSR",
        "outputId": "9cbf6bb6-785b-44aa-ec35-305697b541d1"
      },
      "source": [
        "M2 = np.subtract(A1, B2)\n",
        "M2"
      ],
      "execution_count": null,
      "outputs": [
        {
          "output_type": "execute_result",
          "data": {
            "text/plain": [
              "array([[0],\n",
              "       [8]])"
            ]
          },
          "metadata": {},
          "execution_count": 28
        }
      ]
    },
    {
      "cell_type": "code",
      "metadata": {
        "colab": {
          "base_uri": "https://localhost:8080/"
        },
        "id": "dthcHqCOecUp",
        "outputId": "dd6fb1c2-439a-4b88-cb6d-4ae95a344dec"
      },
      "source": [
        "W1 = np.multiply(A1, B2)\n",
        "W1"
      ],
      "execution_count": null,
      "outputs": [
        {
          "output_type": "execute_result",
          "data": {
            "text/plain": [
              "array([[  1],\n",
              "       [-12]])"
            ]
          },
          "metadata": {},
          "execution_count": 29
        }
      ]
    },
    {
      "cell_type": "code",
      "metadata": {
        "colab": {
          "base_uri": "https://localhost:8080/"
        },
        "id": "YsSaq2d9egAp",
        "outputId": "99a474a8-5733-4849-b771-a33a29308390"
      },
      "source": [
        "W2 = np.divide(A1, B2)\n",
        "W2"
      ],
      "execution_count": null,
      "outputs": [
        {
          "output_type": "execute_result",
          "data": {
            "text/plain": [
              "array([[ 1.],\n",
              "       [-3.]])"
            ]
          },
          "metadata": {},
          "execution_count": 31
        }
      ]
    },
    {
      "cell_type": "markdown",
      "metadata": {
        "id": "Kwq_xRPRXCT7"
      },
      "source": [
        "# Scaling"
      ]
    },
    {
      "cell_type": "markdown",
      "metadata": {
        "id": "05rMTWKhXESD"
      },
      "source": [
        "Scaling or scalar multiplication takes a scalar value and performs multiplication with a vector. Let's take the example below:"
      ]
    },
    {
      "cell_type": "code",
      "metadata": {
        "colab": {
          "base_uri": "https://localhost:8080/"
        },
        "id": "sEW8gr7UXN5w",
        "outputId": "788d749f-511d-4567-d1cb-1ac13f83dc66"
      },
      "source": [
        "S = 5 * A\n",
        "S = np.multiply(5,A)\n",
        "S"
      ],
      "execution_count": null,
      "outputs": [
        {
          "output_type": "execute_result",
          "data": {
            "text/plain": [
              "array([ 5, -5])"
            ]
          },
          "metadata": {},
          "execution_count": 14
        }
      ]
    },
    {
      "cell_type": "markdown",
      "metadata": {
        "id": "5cdvqaKDXebf"
      },
      "source": [
        "Try to implement scaling with two vectors."
      ]
    },
    {
      "cell_type": "code",
      "metadata": {
        "id": "0F2dzgEYXiud",
        "colab": {
          "base_uri": "https://localhost:8080/"
        },
        "outputId": "abf04710-cb73-42ec-e748-967e24f66ce8"
      },
      "source": [
        "J1 = np.multiply(6,A1)\n",
        "J1"
      ],
      "execution_count": null,
      "outputs": [
        {
          "output_type": "execute_result",
          "data": {
            "text/plain": [
              "array([[ 6],\n",
              "       [36]])"
            ]
          },
          "metadata": {},
          "execution_count": 32
        }
      ]
    },
    {
      "cell_type": "code",
      "metadata": {
        "colab": {
          "base_uri": "https://localhost:8080/"
        },
        "id": "ku6GJno0eyYw",
        "outputId": "c4870493-671c-496b-f8d9-d0b47965e5fa"
      },
      "source": [
        "J2 = np.multiply(5,B2)\n",
        "J2"
      ],
      "execution_count": null,
      "outputs": [
        {
          "output_type": "execute_result",
          "data": {
            "text/plain": [
              "array([[  5],\n",
              "       [-10]])"
            ]
          },
          "metadata": {},
          "execution_count": 33
        }
      ]
    },
    {
      "cell_type": "markdown",
      "metadata": {
        "id": "NoktMkQVXaeo"
      },
      "source": [
        "# MatPlotLIb"
      ]
    },
    {
      "cell_type": "markdown",
      "metadata": {
        "id": "C_0JK2s3XqIq"
      },
      "source": [
        "MatPlotLib or MATLab Plotting library is Python's take on MATLabs plotting feature. MatPlotLib can be used vastly from graping values to visualizing several dimensions of data.them. "
      ]
    },
    {
      "cell_type": "markdown",
      "metadata": {
        "id": "XWdnlMaCXxFq"
      },
      "source": [
        "# Visualizing Data"
      ]
    },
    {
      "cell_type": "markdown",
      "metadata": {
        "id": "fFb3CFGuX_79"
      },
      "source": [
        "It's not enough just solving these vectors so might need to visualize them. So we'll use MatPlotLib for that. We'll need to import it first."
      ]
    },
    {
      "cell_type": "code",
      "metadata": {
        "id": "RBgL8hj-Xy8Z"
      },
      "source": [
        "import matplotlib.pyplot as plt\n",
        "import matplotlib\n",
        "%matplotlib inline"
      ],
      "execution_count": null,
      "outputs": []
    },
    {
      "cell_type": "code",
      "metadata": {
        "colab": {
          "base_uri": "https://localhost:8080/",
          "height": 265
        },
        "id": "UMs8L5oBYZn4",
        "outputId": "3d2ceeaa-c697-491d-a5c0-c655bf1f6712"
      },
      "source": [
        "A = [1,-1]\n",
        "B = [5,-1]\n",
        "plt.scatter(A[0], A[1], label='A', c='green')\n",
        "plt.scatter(B[0], B[1], label = 'B', c='pink')\n",
        "plt.grid()\n",
        "plt.legend()\n",
        "plt.show()"
      ],
      "execution_count": null,
      "outputs": [
        {
          "output_type": "display_data",
          "data": {
            "image/png": "[encoded data removed]",
            "text/plain": [
              "<Figure size 432x288 with 1 Axes>"
            ]
          },
          "metadata": {
            "needs_background": "light"
          }
        }
      ]
    },
    {
      "cell_type": "code",
      "metadata": {
        "colab": {
          "base_uri": "https://localhost:8080/",
          "height": 364
        },
        "id": "PCSZAFtdaZZn",
        "outputId": "ad09c937-373a-4141-d2b8-bb95721d64d1"
      },
      "source": [
        "A = np.array([1,-1])\n",
        "B = np.array([1,5])\n",
        "plt.title(\"Resultant Vector\\nMagnitude:{}\" .format(Magnitude))\n",
        "plt.xlim(-5,5)\n",
        "plt.ylim(-5,5)\n",
        "plt.quiver(0, 0, A[0], A[1], angles='xy', scale_units='xy', scale=1, color='green')\n",
        "plt.quiver(A[0], A[1], B[0], B[1], angles='xy', scale_units='xy', scale=1, color='pink')\n",
        "R = A + B \n",
        "plt.quiver(0,0, R[0], R[1], angles='xy', scale_units='xy', scale=1, color='brown' )\n",
        "plt.grid()\n",
        "plt.show()\n",
        "print(R)\n",
        "Magnitude = np.sqrt(np.sum(R**2))\n",
        "print(Magnitude)\n",
        "Slope = R[1]/R[0] \n",
        "print(Slope)\n",
        "Angle = np.arctan(Slope)*(180/np.pi)\n",
        "print(Angle)"
      ],
      "execution_count": null,
      "outputs": [
        {
          "output_type": "display_data",
          "data": {
            "image/png": "[encoded data removed]",
            "text/plain": [
              "<Figure size 432x288 with 1 Axes>"
            ]
          },
          "metadata": {
            "needs_background": "light"
          }
        },
        {
          "output_type": "stream",
          "name": "stdout",
          "text": [
            "[2 4]\n",
            "4.47213595499958\n",
            "2.0\n",
            "63.43494882292201\n"
          ]
        }
      ]
    },
    {
      "cell_type": "markdown",
      "metadata": {
        "id": "H-KI_n8jhPkd"
      },
      "source": [
        "Try plotting three vectors and show the resultant\n",
        "vector as a result. Use Head to tail Method. "
      ]
    },
    {
      "cell_type": "code",
      "metadata": {
        "id": "i2ka3XleX8Eh",
        "colab": {
          "base_uri": "https://localhost:8080/",
          "height": 269
        },
        "outputId": "1d0f8f03-52c6-488a-f4a7-59c3d2a12b84"
      },
      "source": [
        "n = A.shape [0]\n",
        "plt.xlim(-10, 10)\n",
        "plt.ylim(-10, 10)\n",
        "plt.quiver(0,0, A[0], A[1], angles='xy', scale_units='xy', scale=1)\n",
        "plt.quiver(A[0],A[1], B[0], B[1], angles='xy', scale_units='xy',scale=1)\n",
        "plt.quiver(0,0, R[0], R[1], angles='xy', scale_units='xy',scale=1)\n",
        "plt.show()"
      ],
      "execution_count": null,
      "outputs": [
        {
          "output_type": "display_data",
          "data": {
            "image/png": "[encoded data removed]",
            "text/plain": [
              "<Figure size 432x288 with 1 Axes>"
            ]
          },
          "metadata": {
            "needs_background": "light"
          }
        }
      ]
    },
    {
      "cell_type": "code",
      "metadata": {
        "colab": {
          "base_uri": "https://localhost:8080/",
          "height": 364
        },
        "id": "B62hColu7K7k",
        "outputId": "6feed2ea-137d-49ca-905d-2d256c0704b3"
      },
      "source": [
        "A = np.array([0, 5])\n",
        "B = np.array([3, 5])\n",
        "C = np.array([4, 1])\n",
        "plt.title(\"Resultant Vector\\nMagnitude:{}\")\n",
        "plt.xlim(-5, 20)\n",
        "plt.ylim(-5, 20)\n",
        "plt.quiver(0, 0, A[0], A[1], angles='xy', scale_units='xy', scale=1, color='brown')\n",
        "plt.quiver(A[0], A[1], B[0], B[1], angles='xy', scale_units='xy', scale=1, color='beige')\n",
        "plt.quiver(3, 10, C[0], C[1], angles='xy', scale_units='xy', scale=1, color='green')\n",
        "R = A + B + C\n",
        "plt.quiver(0, 0, R[0], R[1], angles='xy', scale_units='xy', scale=1, color='khaki')\n",
        "plt.grid()\n",
        "plt.show()\n",
        "print(R)\n",
        "Magnitude = np.sqrt(np.sum(R**2))\n",
        "print(Magnitude)\n",
        "Slope = R[1]/R[0]\n",
        "print(Slope)\n",
        "Angle = (np.arctan(Slope))*(180/np.pi)\n",
        "print(Angle)"
      ],
      "execution_count": null,
      "outputs": [
        {
          "output_type": "display_data",
          "data": {
            "image/png": "[encoded data removed]",
            "text/plain": [
              "<Figure size 432x288 with 1 Axes>"
            ]
          },
          "metadata": {
            "needs_background": "light"
          }
        },
        {
          "output_type": "stream",
          "name": "stdout",
          "text": [
            "[ 7 11]\n",
            "13.038404810405298\n",
            "1.5714285714285714\n",
            "57.52880770915151\n"
          ]
        }
      ]
    },
    {
      "cell_type": "markdown",
      "metadata": {
        "id": "lMkqBQKyl0YW"
      },
      "source": [
        "![image.png](data:image/png;base64,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)"
      ]
    },
    {
      "cell_type": "markdown",
      "metadata": {
        "id": "fcFk8wflfgRR"
      },
      "source": [
        "# Conclusion "
      ]
    },
    {
      "cell_type": "markdown",
      "metadata": {
        "id": "8flh5_RPfjDp"
      },
      "source": [
        "Various operations with vectors employing basic operations such as addition, multiplication, subtraction, and division were demonstrated throughout this assignment. Furthermore, the use of plt quiver, xlim, ylim, slope, grid, and show were used to demonstrate the representation of vectors through graphs. The vectors were efficiently depicted with the help of MatPlotLib."
      ]
    }
  ]
}